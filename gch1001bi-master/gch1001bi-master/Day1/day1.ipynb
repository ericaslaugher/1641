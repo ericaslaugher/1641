{
 "cells": [
  {
   "cell_type": "code",
   "execution_count": 1,
   "metadata": {},
   "outputs": [
    {
     "name": "stdout",
     "output_type": "stream",
     "text": [
      "Max =  5\n"
     ]
    }
   ],
   "source": [
    "# Example of input, output, and if-else\n",
    "a = input('Enter a: ')\n",
    "b = input('Enter b: ')\n",
    "if a > b:\n",
    "    print('Max = ', a)\n",
    "else:\n",
    "    print('Max = ', b)"
   ]
  },
  {
   "cell_type": "code",
   "execution_count": 2,
   "metadata": {},
   "outputs": [
    {
     "name": "stdout",
     "output_type": "stream",
     "text": [
      "Max =  5\n"
     ]
    }
   ],
   "source": [
    "m = a if a > b else b\n",
    "print('Max = ', m)"
   ]
  },
  {
   "cell_type": "code",
   "execution_count": 3,
   "metadata": {},
   "outputs": [
    {
     "name": "stdout",
     "output_type": "stream",
     "text": [
      "Max =  5\n"
     ]
    }
   ],
   "source": [
    "print('Max = ', a if a > b else b)"
   ]
  },
  {
   "cell_type": "code",
   "execution_count": 5,
   "metadata": {},
   "outputs": [
    {
     "name": "stdout",
     "output_type": "stream",
     "text": [
      "Average of 3 subjects =  6.666666666666667\n",
      "Merit\n"
     ]
    }
   ],
   "source": [
    "# Example if-else-if\n",
    "math = int(input('Enter math: '))\n",
    "physics = int(input('Enter physics: '))\n",
    "chemistry = int(input('Enter chemistry: '))\n",
    "a = (math + physics + chemistry) / 3\n",
    "print('Average of 3 subjects = ', a)\n",
    "if a >= 8.0:\n",
    "    print('Distinction')\n",
    "elif a >= 6.5:\n",
    "    print('Merit')\n",
    "elif a >= 5.0:\n",
    "    print('Pass')\n",
    "else:\n",
    "    print('Fail')"
   ]
  },
  {
   "cell_type": "code",
   "execution_count": 7,
   "metadata": {},
   "outputs": [
    {
     "name": "stdout",
     "output_type": "stream",
     "text": [
      "5 + 2 = 7\n",
      "5 + 2 = 7\n"
     ]
    }
   ],
   "source": [
    "# Python arithmetic operators: +, -, *, /, //, %, **\n",
    "a = int(input('Enter a: '))\n",
    "b = int(input('Enter b: '))\n",
    "print(f'{a} + {b} = {a + b}')\n",
    "print('{} + {} = {}'.format(a, b, a + b))"
   ]
  },
  {
   "cell_type": "code",
   "execution_count": 8,
   "metadata": {},
   "outputs": [
    {
     "name": "stdout",
     "output_type": "stream",
     "text": [
      "5 - 2 = 3\n",
      "5 * 2 = 10\n",
      "5 / 2 = 2.5\n",
      "5 // 2 = 2\n",
      "5 % 2 = 1\n",
      "5 ** 2 = 25\n"
     ]
    }
   ],
   "source": [
    "print(f'{a} - {b} = {a - b}')\n",
    "print(f'{a} * {b} = {a * b}')\n",
    "print(f'{a} / {b} = {a / b}')\n",
    "print(f'{a} // {b} = {a // b}')\n",
    "print(f'{a} % {b} = {a % b}')\n",
    "print(f'{a} ** {b} = {a ** b}')"
   ]
  },
  {
   "cell_type": "code",
   "execution_count": 15,
   "metadata": {},
   "outputs": [
    {
     "name": "stdout",
     "output_type": "stream",
     "text": [
      "|hello python|\n",
      "|        hello python|\n",
      "|    hello python    |\n"
     ]
    }
   ],
   "source": [
    "s = 'hello python'\n",
    "# print s, left align\n",
    "print(f'|{s:<20}|')\n",
    "# print s, right align\n",
    "print(f'|{s:>20}|')\n",
    "# print s, center align\n",
    "print(f'|{s:^20}|')"
   ]
  },
  {
   "cell_type": "code",
   "execution_count": 23,
   "metadata": {},
   "outputs": [
    {
     "name": "stdout",
     "output_type": "stream",
     "text": [
      "|5    |3.88    |\n",
      "|    5|    3.88|\n",
      "|  5  |  3.88  |\n"
     ]
    }
   ],
   "source": [
    "a, b = 5, 3.876543\n",
    "\n",
    "print(f'|{a:<5}|{b:<8.3}|')\n",
    "print(f'|{a:>5}|{b:>8.3}|')\n",
    "print(f'|{a:^5}|{b:^8.3}|')\n"
   ]
  },
  {
   "cell_type": "code",
   "execution_count": 24,
   "metadata": {},
   "outputs": [],
   "source": [
    "movie_name = input('Enter movie name: ')\n",
    "adult_price = float(input('Enter adult ticket price: '))\n",
    "child_price = float(input('Enter child ticket price: '))\n",
    "adult_tickets = int(input('Enter number of adult tickets: '))\n",
    "child_tickets = int(input('Enter number of child tickets: '))\n",
    "donate_rate = float(input('Enter donation rate: '))"
   ]
  },
  {
   "cell_type": "code",
   "execution_count": 57,
   "metadata": {},
   "outputs": [],
   "source": [
    "total_tickets = adult_tickets + child_tickets\n",
    "gross = adult_tickets * adult_price + child_tickets * child_price\n",
    "net = gross * (1 - donate_rate/100)\n",
    "donate = gross - net\n",
    "\n",
    "gross_str = '${:.2f}'.format(gross)\n",
    "net_str = '${:.2f}'.format(net)\n",
    "donate_str = '${:.2f}'.format(donate)\n",
    "donate_rate_str = '{:.2f}%'.format(donate_rate)"
   ]
  },
  {
   "cell_type": "code",
   "execution_count": 58,
   "metadata": {},
   "outputs": [
    {
     "name": "stdout",
     "output_type": "stream",
     "text": [
      "-*-*-*-*-*-*-*-*-*-*-*-*-*-*-*-*-*-*-*-*-*-*-*-*-*-*-*-*-*-*\n",
      "Movie Name:....................                     Avatar 2\n",
      "Number of ticket sold:.........                          600\n",
      "Gross amount:..................                     $1100.00\n",
      "Percentate of donation:........                        8.00%\n",
      "Donate:....................                           $88.00\n",
      "Net amount:....................                     $1012.00\n"
     ]
    }
   ],
   "source": [
    "print('-*' * 30)\n",
    "print('{:<35s}{:5s}{:>20s}'.format('Movie Name:....................', ' ', movie_name))\n",
    "print('{:<35s}{:5s}{:>20d}'.format('Number of ticket sold:.........', ' ', total_tickets))\n",
    "print('{:<35s}{:5s}{:>20s}'.format('Gross amount:..................', ' ', gross_str))\n",
    "print('{:<35s}{:5s}{:>20s}'.format('Percentate of donation:........', ' ', donate_rate_str))\n",
    "print('{:<35s}{:5s}{:>20s}'.format('Donate:....................', ' ', donate_str))\n",
    "print('{:<35s}{:5s}{:>20s}'.format('Net amount:....................', ' ', net_str))"
   ]
  }
 ],
 "metadata": {
  "kernelspec": {
   "display_name": "Python 3",
   "language": "python",
   "name": "python3"
  },
  "language_info": {
   "codemirror_mode": {
    "name": "ipython",
    "version": 3
   },
   "file_extension": ".py",
   "mimetype": "text/x-python",
   "name": "python",
   "nbconvert_exporter": "python",
   "pygments_lexer": "ipython3",
   "version": "3.9.12 (main, Mar 26 2022, 15:52:10) \n[Clang 13.0.0 (clang-1300.0.29.30)]"
  },
  "orig_nbformat": 4,
  "vscode": {
   "interpreter": {
    "hash": "aee8b7b246df8f9039afb4144a1f6fd8d2ca17a180786b69acc140d282b71a49"
   }
  }
 },
 "nbformat": 4,
 "nbformat_minor": 2
}
