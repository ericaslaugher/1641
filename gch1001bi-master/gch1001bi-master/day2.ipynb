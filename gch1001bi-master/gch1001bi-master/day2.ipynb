{
 "cells": [
  {
   "cell_type": "code",
   "execution_count": 3,
   "metadata": {},
   "outputs": [
    {
     "name": "stdout",
     "output_type": "stream",
     "text": [
      "[1, 2, 3, 4, 5]\n",
      "1 5\n"
     ]
    },
    {
     "ename": "IndexError",
     "evalue": "list index out of range",
     "output_type": "error",
     "traceback": [
      "\u001b[0;31m---------------------------------------------------------------------------\u001b[0m",
      "\u001b[0;31mIndexError\u001b[0m                                Traceback (most recent call last)",
      "\u001b[1;32m/Volumes/GoogleDrive/My Drive/FPTU/Program - F2G new/Unit 14 - Business Intelligence/GCH1001/gch1001bi/day2.ipynb Cell 1\u001b[0m in \u001b[0;36m<cell line: 7>\u001b[0;34m()\u001b[0m\n\u001b[1;32m      <a href='vscode-notebook-cell:/Volumes/GoogleDrive/My%20Drive/FPTU/Program%20-%20F2G%20new/Unit%2014%20-%20Business%20Intelligence/GCH1001/gch1001bi/day2.ipynb#W0sZmlsZQ%3D%3D?line=4'>5</a>\u001b[0m \u001b[39mprint\u001b[39m(a[\u001b[39m0\u001b[39m], a[\u001b[39m4\u001b[39m])\n\u001b[1;32m      <a href='vscode-notebook-cell:/Volumes/GoogleDrive/My%20Drive/FPTU/Program%20-%20F2G%20new/Unit%2014%20-%20Business%20Intelligence/GCH1001/gch1001bi/day2.ipynb#W0sZmlsZQ%3D%3D?line=5'>6</a>\u001b[0m \u001b[39m# if index is out of range, IndexError will be raised\u001b[39;00m\n\u001b[0;32m----> <a href='vscode-notebook-cell:/Volumes/GoogleDrive/My%20Drive/FPTU/Program%20-%20F2G%20new/Unit%2014%20-%20Business%20Intelligence/GCH1001/gch1001bi/day2.ipynb#W0sZmlsZQ%3D%3D?line=6'>7</a>\u001b[0m \u001b[39mprint\u001b[39m(a[\u001b[39m5\u001b[39;49m])\n",
      "\u001b[0;31mIndexError\u001b[0m: list index out of range"
     ]
    }
   ],
   "source": [
    "# declare a list\n",
    "a = [1, 2, 3, 4, 5]\n",
    "print(a)\n",
    "# access items, index starts from 0\n",
    "print(a[0], a[4])\n",
    "# if index is out of range, IndexError will be raised\n",
    "print(a[5])"
   ]
  },
  {
   "cell_type": "code",
   "execution_count": 4,
   "metadata": {},
   "outputs": [
    {
     "name": "stdout",
     "output_type": "stream",
     "text": [
      "[1, 2, 'a', 'b', 3.5, 4.5]\n"
     ]
    }
   ],
   "source": [
    "# list can contain different types of items\n",
    "a = [1, 2, 'a', 'b', 3.5, 4.5]\n",
    "print(a)"
   ]
  },
  {
   "cell_type": "code",
   "execution_count": 9,
   "metadata": {},
   "outputs": [
    {
     "name": "stdout",
     "output_type": "stream",
     "text": [
      "[1, 2, 3, 4, 5, 6]\n",
      "[1, 2, 3, 1, 2, 3, 1, 2, 3]\n",
      "[]\n"
     ]
    }
   ],
   "source": [
    "# list operations: +, *\n",
    "a = [1, 2, 3]\n",
    "b = [4, 5, 6]\n",
    "c = a + b   # list + list\n",
    "print(c)\n",
    "d = a * 3   # list * int\n",
    "print(d)\n",
    "print(a * 0) # empty list if number <= 0"
   ]
  },
  {
   "cell_type": "code",
   "execution_count": 10,
   "metadata": {},
   "outputs": [
    {
     "name": "stdout",
     "output_type": "stream",
     "text": [
      "1\n"
     ]
    },
    {
     "ename": "TypeError",
     "evalue": "'tuple' object does not support item assignment",
     "output_type": "error",
     "traceback": [
      "\u001b[0;31m---------------------------------------------------------------------------\u001b[0m",
      "\u001b[0;31mTypeError\u001b[0m                                 Traceback (most recent call last)",
      "\u001b[1;32m/Volumes/GoogleDrive/My Drive/FPTU/Program - F2G new/Unit 14 - Business Intelligence/GCH1001/gch1001bi/day2.ipynb Cell 4\u001b[0m in \u001b[0;36m<cell line: 6>\u001b[0;34m()\u001b[0m\n\u001b[1;32m      <a href='vscode-notebook-cell:/Volumes/GoogleDrive/My%20Drive/FPTU/Program%20-%20F2G%20new/Unit%2014%20-%20Business%20Intelligence/GCH1001/gch1001bi/day2.ipynb#W3sZmlsZQ%3D%3D?line=3'>4</a>\u001b[0m \u001b[39mprint\u001b[39m(t[\u001b[39m0\u001b[39m])\n\u001b[1;32m      <a href='vscode-notebook-cell:/Volumes/GoogleDrive/My%20Drive/FPTU/Program%20-%20F2G%20new/Unit%2014%20-%20Business%20Intelligence/GCH1001/gch1001bi/day2.ipynb#W3sZmlsZQ%3D%3D?line=4'>5</a>\u001b[0m \u001b[39m# cannot have write access\u001b[39;00m\n\u001b[0;32m----> <a href='vscode-notebook-cell:/Volumes/GoogleDrive/My%20Drive/FPTU/Program%20-%20F2G%20new/Unit%2014%20-%20Business%20Intelligence/GCH1001/gch1001bi/day2.ipynb#W3sZmlsZQ%3D%3D?line=5'>6</a>\u001b[0m t[\u001b[39m0\u001b[39m] \u001b[39m=\u001b[39m \u001b[39m4\u001b[39m\n",
      "\u001b[0;31mTypeError\u001b[0m: 'tuple' object does not support item assignment"
     ]
    }
   ],
   "source": [
    "# tuple is similar to list, but it is immutable\n",
    "t = (1, 2, 3)\n",
    "# can have read access\n",
    "print(t[0])\n",
    "# cannot have write access\n",
    "t[0] = 4 # error"
   ]
  },
  {
   "cell_type": "code",
   "execution_count": 11,
   "metadata": {},
   "outputs": [
    {
     "name": "stdout",
     "output_type": "stream",
     "text": [
      "[]\n"
     ]
    }
   ],
   "source": [
    "# empty a list\n",
    "a = [1, 2, 3]\n",
    "a.clear() # a is empty itself\n",
    "print(a)"
   ]
  },
  {
   "cell_type": "code",
   "execution_count": 12,
   "metadata": {},
   "outputs": [
    {
     "name": "stdout",
     "output_type": "stream",
     "text": [
      "[]\n"
     ]
    }
   ],
   "source": [
    "a = [1, 2, 3]\n",
    "a = [] # a is a new empty list\n",
    "print(a)"
   ]
  },
  {
   "cell_type": "code",
   "execution_count": 14,
   "metadata": {},
   "outputs": [
    {
     "name": "stdout",
     "output_type": "stream",
     "text": [
      "3 2 1\n"
     ]
    }
   ],
   "source": [
    "# negative index\n",
    "a = [1, 2, 3]\n",
    "print(a[-1], a[-2], a[-3])"
   ]
  },
  {
   "cell_type": "code",
   "execution_count": 17,
   "metadata": {},
   "outputs": [
    {
     "name": "stdout",
     "output_type": "stream",
     "text": [
      "[7, 9, 11, 13]\n",
      "[1, 3, 5, 7, 9]\n",
      "[1, 3, 5, 7, 9]\n",
      "[15, 17, 19]\n",
      "[15, 17, 19]\n"
     ]
    }
   ],
   "source": [
    "a = [1, 3, 5, 7, 9, 11, 13, 15, 17, 19]\n",
    "# get numbers from 7 to 13\n",
    "print(a[3:7])\n",
    "# get 5 first numbers\n",
    "print(a[0:5])\n",
    "# same as a[0:5] since 0 is the default start index\n",
    "print(a[:5])\n",
    "# get 3 last numbers\n",
    "print(a[7:10])\n",
    "# same as a[7:10] since 10 is the default end index\n",
    "print(a[7:])"
   ]
  },
  {
   "cell_type": "code",
   "execution_count": 18,
   "metadata": {},
   "outputs": [
    {
     "name": "stdout",
     "output_type": "stream",
     "text": [
      "[15, 17, 19]\n"
     ]
    }
   ],
   "source": [
    "# slicing using negative index\n",
    "# get 3 last numbers\n",
    "print(a[-3:])"
   ]
  },
  {
   "cell_type": "code",
   "execution_count": 19,
   "metadata": {},
   "outputs": [
    {
     "name": "stdout",
     "output_type": "stream",
     "text": [
      "[9, 11, 13, 15]\n"
     ]
    }
   ],
   "source": [
    "# slicing using both negative index and positive index\n",
    "print(a[4:-2])"
   ]
  },
  {
   "cell_type": "code",
   "execution_count": 22,
   "metadata": {},
   "outputs": [
    {
     "name": "stdout",
     "output_type": "stream",
     "text": [
      "[1, 3, 5, 7, 9]\n",
      "[1, 3, 5, 7, 9]\n",
      "[2, 4, 6, 8, 10]\n"
     ]
    }
   ],
   "source": [
    "# full syntax of slicing: [start:end:step], by default step is 1\n",
    "a = [1, 2, 3, 4, 5, 6, 7, 8, 9, 10]\n",
    "print(a[0:10:2]) # get odd numbers\n",
    "# same as above but skip default start and end index\n",
    "print(a[::2])\n",
    "print(a[1::2]) # get even numbers"
   ]
  },
  {
   "cell_type": "code",
   "execution_count": 24,
   "metadata": {},
   "outputs": [
    {
     "name": "stdout",
     "output_type": "stream",
     "text": [
      "[10, 9, 8, 7, 6, 5, 4, 3, 2, 1]\n",
      "[8, 7, 6, 5, 4]\n"
     ]
    }
   ],
   "source": [
    "# using negative step will reverse the list (end:start:-step)\n",
    "print(a[::-1])\n",
    "print(a[7:2:-1]) "
   ]
  },
  {
   "cell_type": "code",
   "execution_count": 32,
   "metadata": {},
   "outputs": [
    {
     "name": "stdout",
     "output_type": "stream",
     "text": [
      "11\n",
      "19 - 0 - 64\n",
      "[0, 1, 2, 3, 4, 5, 6, 7, 8, 9, 19]\n",
      "[3, 1, 19, 4, 2, 8, 5, 7, 6, 9, 0]\n",
      "[0, 1, 2, 3, 4, 5, 6, 7, 8, 9, 19]\n"
     ]
    }
   ],
   "source": [
    "# some useful functions for list\n",
    "# get length of list\n",
    "a = [3, 1, 19, 4, 2, 8, 5, 7, 6, 9, 0]\n",
    "print(len(a))\n",
    "# get max, min, sum value\n",
    "print(max(a), min(a), sum(a), sep=' - ')\n",
    "# sort list\n",
    "b = sorted(a)\n",
    "print(b, a, sep='\\n')\n",
    "a.sort()\n",
    "print(a)"
   ]
  },
  {
   "cell_type": "code",
   "execution_count": 35,
   "metadata": {},
   "outputs": [
    {
     "name": "stdout",
     "output_type": "stream",
     "text": [
      "[95, 34, 65, 89, 84, 14, 16, 8, 24, 59, 57, 38, 39, 58, 1, 87, 93, 62, 18, 77]\n",
      "[-33, 78, -14, 83, -22, 99, -63, 62, 7, -15, -52, -6, -31, -70, -21, -42, -80, 22, -81, -78]\n"
     ]
    }
   ],
   "source": [
    "import random as rd\n",
    "# generate a list of random numbers\n",
    "a = rd.sample(range(100), 20) # 20 random numbers from 0 to 99\n",
    "print(a)\n",
    "a = rd.sample(range(-99, 100), 20) # 20 random numbers from -99 to 99\n",
    "print(a)"
   ]
  },
  {
   "cell_type": "code",
   "execution_count": 38,
   "metadata": {},
   "outputs": [
    {
     "name": "stdout",
     "output_type": "stream",
     "text": [
      "[-33, 78, -14, 83, -22, 99, -63, 62, 7, -15]\n",
      "[-52, -6, -31, -70, -21, -42, -80, 22, -81, -78]\n",
      "[83, -22, 99, -63, 62, 7, -15, -52, -6, -31, -70, -21, -42, -80]\n",
      "[-33, 78, -14, 22, -81, -78]\n"
     ]
    }
   ],
   "source": [
    "# a. Slice 1st half and 2nd half of the list\n",
    "n = len(a) // 2\n",
    "first_half = a[:n]\n",
    "second_half = a[n:]\n",
    "print(first_half, second_half, sep='\\n')\n",
    "# b. With n from keyboard, lice list to get a sublist that removes n elements at begin \n",
    "# and n elements at end of list \n",
    "n = int(input('Enter n: '))\n",
    "print(a[n:-n])\n",
    "# c. Get n first elements and n last elements, join them to make a new list of 2n elements\n",
    "print(a[:n] + a[-n:])"
   ]
  },
  {
   "cell_type": "code",
   "execution_count": 42,
   "metadata": {},
   "outputs": [
    {
     "name": "stdout",
     "output_type": "stream",
     "text": [
      "[[1, 2, 3], [4, 5, 6], [7, 8, 9]]\n",
      "Length of a: 3\n",
      "[4, 5, 6]\n",
      "5\n"
     ]
    }
   ],
   "source": [
    "# list of list\n",
    "a = [[1, 2, 3],\n",
    "     [4, 5, 6],\n",
    "     [7, 8, 9]]\n",
    "\n",
    "print(a)\n",
    "print('Length of a:', len(a))\n",
    "print(a[1])\n",
    "print(a[1][1])"
   ]
  },
  {
   "cell_type": "code",
   "execution_count": 53,
   "metadata": {},
   "outputs": [
    {
     "name": "stdout",
     "output_type": "stream",
     "text": [
      "[55, 10, 78, 67, 64]\n",
      "[53, 86, 80, 76, 36]\n",
      "[28, 62, 56, 59, 43]\n",
      "[69, 93, 18, 50, 20]\n",
      "[60, 58, 19, 84, 32]\n"
     ]
    }
   ],
   "source": [
    "a = [rd.sample(range(10, 100), 5),\n",
    "    rd.sample(range(10, 100), 5),\n",
    "    rd.sample(range(10, 100), 5),\n",
    "    rd.sample(range(10, 100), 5),\n",
    "    rd.sample(range(10, 100), 5)]\n",
    "\n",
    "for i in range(5): # similar to for (int i = 0; i < 5; i++)\n",
    "    print(a[i])"
   ]
  },
  {
   "cell_type": "code",
   "execution_count": 54,
   "metadata": {},
   "outputs": [
    {
     "name": "stdout",
     "output_type": "stream",
     "text": [
      "[28, 62, 56, 59, 43]\n",
      "[69, 93, 18, 50, 20]\n",
      "[60, 58, 19, 84, 32]\n"
     ]
    }
   ],
   "source": [
    "# slicing list of list (same as normal list)\n",
    "# print 3 last rows\n",
    "b = a[-3:]\n",
    "for i in range(3):\n",
    "    print(b[i])"
   ]
  },
  {
   "cell_type": "code",
   "execution_count": 55,
   "metadata": {},
   "outputs": [],
   "source": [
    "def print_matrix(a):\n",
    "    for row in a:\n",
    "        print(row)"
   ]
  },
  {
   "cell_type": "code",
   "execution_count": 56,
   "metadata": {},
   "outputs": [
    {
     "name": "stdout",
     "output_type": "stream",
     "text": [
      "[55, 10, 78, 67, 64]\n",
      "[53, 86, 80, 76, 36]\n",
      "[28, 62, 56, 59, 43]\n",
      "[69, 93, 18, 50, 20]\n",
      "[60, 58, 19, 84, 32]\n",
      "--------------------\n",
      "[53, 86, 80, 76, 36]\n",
      "[28, 62, 56, 59, 43]\n",
      "[69, 93, 18, 50, 20]\n",
      "--------------------\n",
      "[53, 86, 80, 76, 36]\n",
      "[28, 62, 56, 59, 43]\n",
      "[69, 93, 18, 50, 20]\n",
      "--------------------\n",
      "[53, 86, 80, 76, 36]\n",
      "[28, 62, 56, 59, 43]\n",
      "[69, 93, 18, 50, 20]\n",
      "--------------------\n",
      "[53, 86, 80, 76, 36]\n",
      "[28, 62, 56, 59, 43]\n",
      "[69, 93, 18, 50, 20]\n"
     ]
    }
   ],
   "source": [
    "print_matrix(a)\n",
    "# get 3 middle rows\n",
    "# C1\n",
    "b = a[1:4]\n",
    "print('-' * 20)\n",
    "print_matrix(b)\n",
    "# C2\n",
    "c = a[1:-1]\n",
    "print('-' * 20)\n",
    "print_matrix(c)\n",
    "# C3\n",
    "d = a[-4:-1]\n",
    "print('-' * 20)\n",
    "print_matrix(d)\n",
    "# C4\n",
    "e = a[-4:4]\n",
    "print('-' * 20)\n",
    "print_matrix(e)"
   ]
  },
  {
   "cell_type": "code",
   "execution_count": 57,
   "metadata": {},
   "outputs": [
    {
     "name": "stdout",
     "output_type": "stream",
     "text": [
      "[69, 93, 18, 50, 20]\n",
      "[60, 58, 19, 84, 32]\n",
      "--------------------\n",
      "[69, 93, 18, 50, 20]\n",
      "[60, 58, 19, 84, 32]\n",
      "--------------------\n",
      "[69, 93, 18, 50, 20]\n",
      "[60, 58, 19, 84, 32]\n",
      "--------------------\n",
      "[69, 93, 18, 50, 20]\n",
      "[60, 58, 19, 84, 32]\n"
     ]
    }
   ],
   "source": [
    "# Get 2 last rows in as many ways as you can\n",
    "b = a[-2:]\n",
    "c = a[-2:5]\n",
    "d = a[3:]\n",
    "e = a[3:5]\n",
    "print_matrix(b)\n",
    "print('-' * 20)\n",
    "print_matrix(c)\n",
    "print('-' * 20)\n",
    "print_matrix(d)\n",
    "print('-' * 20)\n",
    "print_matrix(e)"
   ]
  },
  {
   "cell_type": "code",
   "execution_count": 58,
   "metadata": {},
   "outputs": [
    {
     "name": "stdout",
     "output_type": "stream",
     "text": [
      "a[3] = [69, 93, 18, 50, 20]\n",
      "Min = 18, Max = 93, Sum = 250\n"
     ]
    }
   ],
   "source": [
    "n = int(input('Enter n: '))\n",
    "print(f'a[{n}] = {a[n]}')\n",
    "print(f'Min = {min(a[n])}, Max = {max(a[n])}, Sum = {sum(a[n])}')"
   ]
  },
  {
   "cell_type": "code",
   "execution_count": 65,
   "metadata": {},
   "outputs": [
    {
     "name": "stdout",
     "output_type": "stream",
     "text": [
      "Highest price: notebook - $10000\n",
      "Lowest price: eraser - $500\n",
      "Highest sales: eraser - $500000\n",
      "Lowest sales: pencil - $120000\n"
     ]
    }
   ],
   "source": [
    "products = ['pencil', 'eraser', 'ruler', 'pen', 'notebook']\n",
    "prices = [1000, 500, 2000, 5000, 10000]\n",
    "sold = [120, 1000, 80, 50, 30]\n",
    "n = len(products)\n",
    "# Find the product that has the highest price\n",
    "max_price = prices[0]\n",
    "for i in range(1, n):\n",
    "    if prices[i] > max_price:\n",
    "        max_price = prices[i]\n",
    "        max_i = i\n",
    "print(f'Highest price: {products[max_i]} - ${max_price}')\n",
    "# Find the product that has the lowest price\n",
    "min_price = prices[0]\n",
    "for i in range(1, n):\n",
    "    if prices[i] < min_price:\n",
    "        min_price = prices[i]\n",
    "        min_i = i\n",
    "print(f'Lowest price: {products[min_i]} - ${min_price}')\n",
    "# Find the product that has the highest sales\n",
    "max_sale = prices[0] * sold[0]\n",
    "max_i = 0\n",
    "for i in range(1, n):\n",
    "    if prices[i] * sold[i] > max_sale:\n",
    "        max_sale = prices[i] * sold[i]\n",
    "        max_i = i\n",
    "print(f'Highest sales: {products[max_i]} - ${max_sale}')\n",
    "# Find the product that has the lowest sales\n",
    "min_sale = prices[0] * sold[0]\n",
    "min_i = 0\n",
    "for i in range(1, n):\n",
    "    if prices[i] * sold[i] < min_sale:\n",
    "        min_sale = prices[i] * sold[i]\n",
    "        min_i = i\n",
    "print(f'Lowest sales: {products[min_i]} - ${min_sale}')"
   ]
  },
  {
   "cell_type": "code",
   "execution_count": 67,
   "metadata": {},
   "outputs": [
    {
     "name": "stdout",
     "output_type": "stream",
     "text": [
      "Highest price: notebook - $10000\n",
      "Lowest price: eraser - $500\n"
     ]
    }
   ],
   "source": [
    "max_price = max(prices)\n",
    "max_i = prices.index(max_price)\n",
    "print(f'Highest price: {products[max_i]} - ${max_price}')\n",
    "print(f'Lowest price: {products[prices.index(min(prices))]} - ${min(prices)}')"
   ]
  },
  {
   "cell_type": "code",
   "execution_count": 72,
   "metadata": {},
   "outputs": [
    {
     "name": "stdout",
     "output_type": "stream",
     "text": [
      "Highest price: notebook - $10000\n",
      "Lowest price: eraser - $500\n",
      "Highest sales: eraser - $500000\n",
      "Lowest sales: pencil - $120000\n"
     ]
    }
   ],
   "source": [
    "product_sales = [['pencil', 1000, 120],\n",
    "                 ['eraser', 500, 1000],\n",
    "                 ['ruler', 2000, 80],\n",
    "                 ['pen', 5000, 50],\n",
    "                 ['notebook', 10000, 30]]\n",
    "n = len(product_sales)\n",
    "# Find the product that has the highest price\n",
    "max_price = product_sales[0][1]\n",
    "max_i = 0\n",
    "for i in range(1, n):\n",
    "    if product_sales[i][1] > max_price:\n",
    "        max_price = product_sales[i][1]\n",
    "        max_i = i\n",
    "print(f'Highest price: {product_sales[max_i][0]} - ${max_price}')\n",
    "# Find the product that has the lowest price\n",
    "min_price = product_sales[0][1]\n",
    "min_i = 0\n",
    "for i in range(1, n):\n",
    "    if product_sales[i][1] < min_price:\n",
    "        min_price = product_sales[i][1]\n",
    "        min_i = i\n",
    "print(f'Lowest price: {product_sales[min_i][0]} - ${min_price}')\n",
    "# Find the product that has the highest sales\n",
    "max_sale = product_sales[0][1] * product_sales[0][2]\n",
    "max_i = 0\n",
    "for i in range(1, n):\n",
    "    if product_sales[i][1] * product_sales[i][2] > max_sale:\n",
    "        max_sale = product_sales[i][1] * product_sales[i][2]\n",
    "        max_i = i\n",
    "print(f'Highest sales: {product_sales[max_i][0]} - ${max_sale}')\n",
    "# Find the product that has the lowest sales\n",
    "min_sale = product_sales[0][1] * product_sales[0][2]\n",
    "min_i = 0\n",
    "for i in range(1, n):\n",
    "    if product_sales[i][1] * product_sales[i][2] < min_sale:\n",
    "        min_sale = product_sales[i][1] * product_sales[i][2]\n",
    "        min_i = i\n",
    "print(f'Lowest sales: {product_sales[min_i][0]} - ${min_sale}')"
   ]
  }
 ],
 "metadata": {
  "kernelspec": {
   "display_name": "Python 3",
   "language": "python",
   "name": "python3"
  },
  "language_info": {
   "codemirror_mode": {
    "name": "ipython",
    "version": 3
   },
   "file_extension": ".py",
   "mimetype": "text/x-python",
   "name": "python",
   "nbconvert_exporter": "python",
   "pygments_lexer": "ipython3",
   "version": "3.9.12 (main, Mar 26 2022, 15:52:10) \n[Clang 13.0.0 (clang-1300.0.29.30)]"
  },
  "orig_nbformat": 4,
  "vscode": {
   "interpreter": {
    "hash": "aee8b7b246df8f9039afb4144a1f6fd8d2ca17a180786b69acc140d282b71a49"
   }
  }
 },
 "nbformat": 4,
 "nbformat_minor": 2
}
